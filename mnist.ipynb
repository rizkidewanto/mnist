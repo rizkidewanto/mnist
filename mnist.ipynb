{
  "nbformat": 4,
  "nbformat_minor": 0,
  "metadata": {
    "orig_nbformat": 2,
    "deepnote_notebook_id": "f5784841-87d1-4bf5-bbd0-048b7fce20bd",
    "deepnote_execution_queue": [],
    "colab": {
      "name": "mnist.ipynb",
      "provenance": []
    },
    "language_info": {
      "name": "python"
    },
    "kernelspec": {
      "name": "python3",
      "display_name": "Python 3"
    }
  },
  "cells": [
    {
      "cell_type": "code",
      "metadata": {
        "tags": [],
        "cell_id": "d1f4da81-044a-4376-957e-033077d5cdbd",
        "output_cleared": false,
        "id": "MCd9yxB250-t"
      },
      "source": [
        "from keras.models import Model, Sequential\n",
        "from keras.layers import Dense,Flatten,Input\n",
        "from tensorflow.keras.utils import to_categorical\n",
        "from keras.datasets import mnist\n",
        "import matplotlib.pyplot as plt\n",
        "import numpy as np"
      ],
      "execution_count": 4,
      "outputs": []
    },
    {
      "cell_type": "code",
      "metadata": {
        "tags": [],
        "cell_id": "00001-48bace20-393a-4bd7-baf9-764a31e52cf7",
        "output_cleared": false,
        "id": "pql4_T3q50-0",
        "outputId": "473991ef-e7d9-4dd0-a901-fe585877f56d",
        "colab": {
          "base_uri": "https://localhost:8080/"
        }
      },
      "source": [
        "(x_latih,y_latih),(x_tes,y_tes)=mnist.load_data()\n",
        "y_latih1=to_categorical(y_latih)\n",
        "y_tes1=to_categorical(y_tes)"
      ],
      "execution_count": 5,
      "outputs": [
        {
          "output_type": "stream",
          "name": "stdout",
          "text": [
            "Downloading data from https://storage.googleapis.com/tensorflow/tf-keras-datasets/mnist.npz\n",
            "11493376/11490434 [==============================] - 0s 0us/step\n",
            "11501568/11490434 [==============================] - 0s 0us/step\n"
          ]
        }
      ]
    },
    {
      "cell_type": "code",
      "metadata": {
        "tags": [],
        "cell_id": "00002-8f88fe7b-7501-4307-befd-d33d8b1698bd",
        "output_cleared": false,
        "id": "kSoQIq8W50-1",
        "outputId": "f8808384-33c0-4d8f-ebf4-900bd8c55a68",
        "colab": {
          "base_uri": "https://localhost:8080/"
        }
      },
      "source": [
        "x_latih.shape"
      ],
      "execution_count": 6,
      "outputs": [
        {
          "output_type": "execute_result",
          "data": {
            "text/plain": [
              "(60000, 28, 28)"
            ]
          },
          "metadata": {},
          "execution_count": 6
        }
      ]
    },
    {
      "cell_type": "code",
      "metadata": {
        "tags": [],
        "cell_id": "00003-7a05614c-39e2-4fc9-9317-6996399c7e23",
        "output_cleared": false,
        "id": "zeuiMkXf50-3",
        "outputId": "905524da-e669-4bd8-f31e-d4e4e900607f",
        "colab": {
          "base_uri": "https://localhost:8080/",
          "height": 282
        }
      },
      "source": [
        "plt.imshow(x_latih[0,:,:])"
      ],
      "execution_count": 7,
      "outputs": [
        {
          "output_type": "execute_result",
          "data": {
            "text/plain": [
              "<matplotlib.image.AxesImage at 0x7f27129e0110>"
            ]
          },
          "metadata": {},
          "execution_count": 7
        },
        {
          "output_type": "display_data",
          "data": {
            "image/png": "[encoded data removed]",
            "text/plain": [
              "<Figure size 432x288 with 1 Axes>"
            ]
          },
          "metadata": {
            "needs_background": "light"
          }
        }
      ]
    },
    {
      "cell_type": "code",
      "metadata": {
        "tags": [],
        "cell_id": "8652ca9c-cbad-4779-bd67-45cb7abc4504",
        "output_cleared": false,
        "id": "aVgitx_750-4"
      },
      "source": [
        "inp=Input(shape=(28,28,1,))\n",
        "x=Flatten()(inp)\n",
        "y=Dense(10,activation='softmax')(x)"
      ],
      "execution_count": 8,
      "outputs": []
    },
    {
      "cell_type": "code",
      "metadata": {
        "tags": [],
        "cell_id": "00003-44f92e0e-46c6-415f-9144-b58c469a76ff",
        "output_cleared": false,
        "id": "mVQ1UFHz50-5"
      },
      "source": [
        "net=Model(inputs=inp,outputs=y)"
      ],
      "execution_count": 9,
      "outputs": []
    },
    {
      "cell_type": "code",
      "metadata": {
        "tags": [],
        "cell_id": "00004-194381df-d9bb-40dc-863b-e44d58f57212",
        "output_cleared": false,
        "id": "bZ4n72UR50-6"
      },
      "source": [
        "net.compile(loss='categorical_crossentropy',metrics='accuracy')"
      ],
      "execution_count": 10,
      "outputs": []
    },
    {
      "cell_type": "code",
      "metadata": {
        "tags": [],
        "cell_id": "00004-e28fba42-2f13-4df8-b88f-8982cfcf93f0",
        "output_cleared": false,
        "id": "kVl-livX50-8",
        "outputId": "ee6c6183-440f-4c3b-e3cc-85355e7e87c7",
        "colab": {
          "base_uri": "https://localhost:8080/"
        }
      },
      "source": [
        "net.fit(x_latih,y_latih1)"
      ],
      "execution_count": 11,
      "outputs": [
        {
          "output_type": "stream",
          "name": "stdout",
          "text": [
            "1875/1875 [==============================] - 3s 1ms/step - loss: 9.9857 - accuracy: 0.8369\n"
          ]
        },
        {
          "output_type": "execute_result",
          "data": {
            "text/plain": [
              "<keras.callbacks.History at 0x7f270e9fdd10>"
            ]
          },
          "metadata": {},
          "execution_count": 11
        }
      ]
    },
    {
      "cell_type": "code",
      "metadata": {
        "tags": [],
        "cell_id": "00006-3f949f13-a3c7-4d1c-8663-82c17862bd19",
        "output_cleared": false,
        "id": "ixgXkoZR50-9",
        "outputId": "e788b59e-9491-442f-dbb7-273aff3db3d4",
        "colab": {
          "base_uri": "https://localhost:8080/"
        }
      },
      "source": [
        "print(net.evaluate(x_tes,y_tes1))"
      ],
      "execution_count": 12,
      "outputs": [
        {
          "output_type": "stream",
          "name": "stdout",
          "text": [
            "313/313 [==============================] - 1s 1ms/step - loss: 5.6495 - accuracy: 0.8872\n",
            "[5.649518966674805, 0.8871999979019165]\n"
          ]
        }
      ]
    },
    {
      "cell_type": "code",
      "metadata": {
        "tags": [],
        "cell_id": "00009-4f996b41-716f-4a83-97e6-32a879b76b19",
        "output_cleared": false,
        "id": "zXxEmZDI50-_",
        "outputId": "c9c8398c-ad64-4bd2-ae10-481e5e1e6497",
        "colab": {
          "base_uri": "https://localhost:8080/"
        }
      },
      "source": [
        "print(x_tes[:].shape)"
      ],
      "execution_count": 16,
      "outputs": [
        {
          "output_type": "stream",
          "name": "stdout",
          "text": [
            "(10000, 28, 28)\n"
          ]
        }
      ]
    },
    {
      "cell_type": "code",
      "metadata": {
        "tags": [],
        "cell_id": "00010-3d66fd10-eec7-4c39-b578-ebe406a7e326",
        "output_cleared": false,
        "id": "eQKMa70h50_A",
        "outputId": "8914d9dd-17ab-47a1-d8b5-e18155076359",
        "colab": {
          "base_uri": "https://localhost:8080/",
          "height": 282
        }
      },
      "source": [
        "plt.imshow(x_tes[0,:,:])"
      ],
      "execution_count": 17,
      "outputs": [
        {
          "output_type": "execute_result",
          "data": {
            "text/plain": [
              "<matplotlib.image.AxesImage at 0x7f270e8f4150>"
            ]
          },
          "metadata": {},
          "execution_count": 17
        },
        {
          "output_type": "display_data",
          "data": {
            "image/png": "[encoded data removed]",
            "text/plain": [
              "<Figure size 432x288 with 1 Axes>"
            ]
          },
          "metadata": {
            "needs_background": "light"
          }
        }
      ]
    },
    {
      "cell_type": "code",
      "metadata": {
        "tags": [],
        "cell_id": "00010-4e6160ae-f43b-40f9-b912-f5321c228e6d",
        "output_cleared": false,
        "id": "m30BZaUN50_A",
        "outputId": "f4dc0ecb-ee79-44a0-d1ba-6a327e14c36c",
        "colab": {
          "base_uri": "https://localhost:8080/"
        }
      },
      "source": [
        "net.predict(np.expand_dims(x_tes[0,:,:],axis=0))"
      ],
      "execution_count": 18,
      "outputs": [
        {
          "output_type": "execute_result",
          "data": {
            "text/plain": [
              "array([[0., 0., 0., 0., 0., 0., 0., 1., 0., 0.]], dtype=float32)"
            ]
          },
          "metadata": {},
          "execution_count": 18
        }
      ]
    },
    {
      "cell_type": "code",
      "metadata": {
        "id": "bW2lh1tW54ce"
      },
      "source": [
        ""
      ],
      "execution_count": null,
      "outputs": []
    }
  ]
}